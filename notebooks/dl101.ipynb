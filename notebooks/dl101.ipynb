{
 "cells": [
  {
   "cell_type": "markdown",
   "metadata": {},
   "source": [
    "# Katzen gegen Hunde"
   ]
  },
  {
   "cell_type": "markdown",
   "metadata": {},
   "source": [
    "Lade Bibliotheken zum Darstellen von Katzen/Hundebilder"
   ]
  },
  {
   "cell_type": "code",
   "execution_count": null,
   "metadata": {},
   "outputs": [],
   "source": [
    "import sys\n",
    "from PIL import Image\n",
    "from matplotlib import pyplot as plt\n",
    "from tensorflow.contrib.keras.python.keras.preprocessing.image import img_to_array, load_img\n",
    "%matplotlib inline\n",
    "\n",
    "sys.path.insert(0, '../scripts')\n",
    "import nn_helper\n",
    "from nn_helper import get_batches, finetune, show_image, show_array\n",
    "\n",
    "\n",
    "SEED = 42\n",
    "ROOT = '../../refereeReports/talks/deepLearning/data/processed/cats_vs_dogs'\n",
    "\n",
    "\n",
    "show_image('{}/train/cat/1943.jpg'.format(ROOT))"
   ]
  },
  {
   "cell_type": "markdown",
   "metadata": {},
   "source": [
    "## Vorhersagen mit VGG16"
   ]
  },
  {
   "cell_type": "markdown",
   "metadata": {},
   "source": [
    "Lade Daten "
   ]
  },
  {
   "cell_type": "code",
   "execution_count": null,
   "metadata": {},
   "outputs": [],
   "source": [
    "BATCH_SIZE = 16\n",
    "batches = get_batches('{}/train'.format(ROOT), batch_size = BATCH_SIZE)"
   ]
  },
  {
   "cell_type": "markdown",
   "metadata": {},
   "source": [
    "Lade Classifier"
   ]
  },
  {
   "cell_type": "code",
   "execution_count": null,
   "metadata": {},
   "outputs": [],
   "source": [
    "from tensorflow.contrib.keras.python.keras.applications.vgg16 import preprocess_input, decode_predictions,  VGG16\n",
    "import numpy as np\n",
    "\n",
    "vgg = VGG16(weights='imagenet')"
   ]
  },
  {
   "cell_type": "markdown",
   "metadata": {},
   "source": [
    "Überprüfe Vorhersagen."
   ]
  },
  {
   "cell_type": "code",
   "execution_count": null,
   "metadata": {},
   "outputs": [],
   "source": [
    "def check_prediction(clf, img):\n",
    "    show_array(img)\n",
    "    return clf.predict(preprocess_input(img[:1,:,:,:]))\n",
    "\n",
    "preds = check_prediction(vgg, next(batches)[0])\n",
    "decode_predictions(preds, top = 3)"
   ]
  },
  {
   "cell_type": "markdown",
   "metadata": {},
   "source": [
    "## Training eines angepassten neuronalen Netzwerks"
   ]
  },
  {
   "cell_type": "markdown",
   "metadata": {},
   "source": [
    "Nun trainieren wir ein neuronales Netz, dass nur Katzen und Hunde unterscheidet."
   ]
  },
  {
   "cell_type": "code",
   "execution_count": null,
   "metadata": {
    "scrolled": true
   },
   "outputs": [],
   "source": [
    "%%time\n",
    "batches = [get_batches('{}/{}'.format(ROOT, tv), batch_size = BATCH_SIZE, shuffle = True, seed = SEED) \n",
    "           for tv in ['train', 'valid']]\n",
    "\n",
    "vgg_ft = finetune(vgg, n_class = 2)\n",
    "vgg_ft.fit_generator(batches[0], validation_data = batches[1], \n",
    "                    steps_per_epoch = int(batches[0].samples/batches[0].batch_size), \n",
    "                    validation_steps = int(batches[1].samples/batches[1].batch_size))"
   ]
  },
  {
   "cell_type": "markdown",
   "metadata": {},
   "source": [
    "Alternativ laden wir die Gewichte aus einem früheren run (Laufzeit auf AWS 12000s, validation accuracy: 98%)."
   ]
  },
  {
   "cell_type": "code",
   "execution_count": null,
   "metadata": {},
   "outputs": [],
   "source": [
    "vgg_ft.load_weights('../../refereeReports/talks/deepLearning/models/catsdogs_finetune.h5')"
   ]
  },
  {
   "cell_type": "markdown",
   "metadata": {},
   "source": [
    "Überprüfen wir nun wieder die Vorhersagen."
   ]
  },
  {
   "cell_type": "code",
   "execution_count": null,
   "metadata": {},
   "outputs": [],
   "source": [
    "check_prediction(vgg_ft, next(batches[0])[0])"
   ]
  },
  {
   "cell_type": "code",
   "execution_count": null,
   "metadata": {
    "collapsed": true
   },
   "outputs": [],
   "source": []
  }
 ],
 "metadata": {
  "kernelspec": {
   "display_name": "Python 3",
   "language": "python",
   "name": "python3"
  },
  "language_info": {
   "codemirror_mode": {
    "name": "ipython",
    "version": 3
   },
   "file_extension": ".py",
   "mimetype": "text/x-python",
   "name": "python",
   "nbconvert_exporter": "python",
   "pygments_lexer": "ipython3",
   "version": "3.5.3"
  }
 },
 "nbformat": 4,
 "nbformat_minor": 2
}
