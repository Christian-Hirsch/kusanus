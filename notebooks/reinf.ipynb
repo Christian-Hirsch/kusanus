{
 "cells": [
  {
   "cell_type": "markdown",
   "metadata": {},
   "source": [
    "# Reinforcement learning"
   ]
  },
  {
   "cell_type": "markdown",
   "metadata": {},
   "source": [
    "In diesem Notebook werden wir entdecken wie neuronale Netzwerke im Themenbereich KI Anwendung finden. Der Code basiert auf einem exzellenten Blogpost von Arthur Juliani: https://medium.com/emergent-future/simple-reinforcement-learning-with-tensorflow-part-0-q-learning-with-tables-and-neural-networks-d195264329d0"
   ]
  },
  {
   "cell_type": "markdown",
   "metadata": {},
   "source": [
    "## Q-Table learning"
   ]
  },
  {
   "cell_type": "markdown",
   "metadata": {
    "collapsed": true
   },
   "source": [
    "Wir betrachten in unserem Beispiel das Spiel _Frozen Lake_"
   ]
  },
  {
   "cell_type": "code",
   "execution_count": 1,
   "metadata": {},
   "outputs": [
    {
     "name": "stderr",
     "output_type": "stream",
     "text": [
      "[2017-07-07 20:51:50,566] Making new env: FrozenLake-v0\n"
     ]
    }
   ],
   "source": [
    "import gym\n",
    "import numpy as np\n",
    "import seaborn as sns\n",
    "\n",
    "%matplotlib inline \n",
    "\n",
    "env = gym.make('FrozenLake-v0')\n",
    "\n",
    "#learning rate\n",
    "LR = .8\n",
    "\n",
    "#discount factor\n",
    "GAMMA = .95\n",
    "\n",
    "#number of episodes\n",
    "EPISODES = 3000"
   ]
  },
  {
   "cell_type": "markdown",
   "metadata": {
    "collapsed": true
   },
   "source": [
    "Wir initialisieren die Q-Matrix durch 0 und erzeugen eine Liste zum Speichern der Rewards"
   ]
  },
  {
   "cell_type": "code",
   "execution_count": 53,
   "metadata": {
    "collapsed": true
   },
   "outputs": [],
   "source": [
    "Q = np.zeros([env.observation_space.n,env.action_space.n])\n",
    "rList = []"
   ]
  },
  {
   "cell_type": "markdown",
   "metadata": {},
   "source": [
    "Nun definieren wir einen Schritt im Q-Learning"
   ]
  },
  {
   "cell_type": "code",
   "execution_count": 54,
   "metadata": {
    "collapsed": true
   },
   "outputs": [],
   "source": [
    "def q_step(s, i):\n",
    "    #get maximal-reward action with random permutation\n",
    "    a = None\n",
    "\n",
    "    #Get new state and reward from environment\n",
    "    None = env.step(a)\n",
    "    \n",
    "    #Update Q-Table with new knowledge and update state\n",
    "    Q[s,a] = Q[s,a] + None\n",
    "    s = s1\n",
    "    \n",
    "    #return state, reward and done\n",
    "    return s, r, d    "
   ]
  },
  {
   "cell_type": "markdown",
   "metadata": {},
   "source": [
    "Q-Steps wird im Main-Loop verwendet."
   ]
  },
  {
   "cell_type": "code",
   "execution_count": 55,
   "metadata": {
    "collapsed": true
   },
   "outputs": [],
   "source": [
    "#rewardlist\n",
    "rList = []\n",
    "for i in range(EPISODES):\n",
    "    #Reset environment and perform q-steps several times\n",
    "    s = env.reset()\n",
    "    #The Q-Table learning algorithm\n",
    "    for _ in range(100):\n",
    "        None\n",
    "        "
   ]
  },
  {
   "cell_type": "code",
   "execution_count": 57,
   "metadata": {},
   "outputs": [
    {
     "data": {
      "text/plain": [
       "<matplotlib.axes._subplots.AxesSubplot at 0x7f7eea8bb7b8>"
      ]
     },
     "execution_count": 57,
     "metadata": {},
     "output_type": "execute_result"
    },
    {
     "data": {
      "image/png": "[encoded data removed]",
      "text/plain": [
       "<matplotlib.figure.Figure at 0x7f7eea7acf28>"
      ]
     },
     "metadata": {},
     "output_type": "display_data"
    }
   ],
   "source": [
    "sns.tsplot(np.cumsum(rList)/(1 + np.arange(EPISODES)))"
   ]
  },
  {
   "cell_type": "markdown",
   "metadata": {},
   "source": [
    "## Q-Learning mit neuronalen Netzwerken"
   ]
  },
  {
   "cell_type": "markdown",
   "metadata": {
    "collapsed": true
   },
   "source": [
    "Nun fuehren wir das Q-Table learning mit Hilfe von tensorflow durch."
   ]
  },
  {
   "cell_type": "code",
   "execution_count": 7,
   "metadata": {},
   "outputs": [
    {
     "name": "stderr",
     "output_type": "stream",
     "text": [
      "[2017-07-06 21:52:09,907] Making new env: FrozenLake-v0\n"
     ]
    }
   ],
   "source": [
    "import tensorflow as tf\n",
    "from tensorflow.contrib.keras.python.keras.layers import Dense, Flatten\n",
    "from tensorflow.contrib.keras.python.keras.models import Sequential\n",
    "from tensorflow.contrib.keras.python.keras.optimizers import Adam\n",
    "from tensorflow.contrib.keras.python.keras.initializers import RandomUniform\n",
    "from tensorflow.contrib.keras.python.keras.utils import to_categorical\n",
    "import numpy as np\n",
    "import gym\n",
    "\n",
    "env = gym.make('FrozenLake-v0')\n",
    "\n",
    "# discount parameter\n",
    "GAMMA = .99\n",
    "\n",
    "#exploration probability\n",
    "e = 0.1\n",
    "\n",
    "#number of training episodes\n",
    "EPISODES = 3000"
   ]
  },
  {
   "cell_type": "markdown",
   "metadata": {},
   "source": [
    "Wir definieren zunaechst ein einfaches lineares Modell"
   ]
  },
  {
   "cell_type": "code",
   "execution_count": 2,
   "metadata": {
    "collapsed": true
   },
   "outputs": [],
   "source": [
    "linear = Sequential([\n",
    "    Dense(4, activation = 'linear', input_shape=(16,), use_bias = False, \n",
    "          kernel_initializer=RandomUniform(0, .01))\n",
    "])\n",
    "\n",
    "linear.compile()"
   ]
  },
  {
   "cell_type": "markdown",
   "metadata": {},
   "source": [
    "Nun definieren wir den tensor-flow basierten optimierungsschritt"
   ]
  },
  {
   "cell_type": "code",
   "execution_count": 11,
   "metadata": {
    "collapsed": true
   },
   "outputs": [],
   "source": [
    "def q_step_tf(s):\n",
    "    #get maximal action with random permutation\n",
    "    \n",
    "    #random exploration\n",
    "    if np.random.rand(1) < e:\n",
    "        a = env.action_space.sample()    \n",
    "    None = env.step(a)\n",
    "    \n",
    "    #get maximal-reward action\n",
    "    None\n",
    "    \n",
    "    #Compute target-Q\n",
    "    \n",
    "    #fit the linear model\n",
    "    linear.fit()\n",
    "    \n",
    "    s = s1\n",
    "    return s, r, d    "
   ]
  },
  {
   "cell_type": "markdown",
   "metadata": {},
   "source": [
    "Schliesslich betten wir in das Hauptprogramm ein."
   ]
  },
  {
   "cell_type": "code",
   "execution_count": 12,
   "metadata": {},
   "outputs": [
    {
     "data": {
      "text/plain": [
       "'\\n#sess.run(init)\\nfor i in range(EPISODES):\\n    #Reset environment and get first new observation\\n    s = env.reset()\\n    rAll = 0\\n    d = False\\n    j = 0\\n    #The Q-Network\\n    while j < 99:\\n        j+=1\\n        #Choose an action by greedily (with e chance of random action) from the Q-network\\n        \\n        if d == True:\\n            #Reduce chance of random action as we train the model.\\n            \\n            break\\n    jList.append(j)\\n    rList.append(rAll)\\nprint(\"Percent of succesful episodes: \" + str(sum(rList)/num_episodes) + \"%\")\\n'"
      ]
     },
     "execution_count": 12,
     "metadata": {},
     "output_type": "execute_result"
    }
   ],
   "source": [
    "rList = []\n",
    "for i in range(EPISODES):\n",
    "    #Reset environment and get first new observation\n",
    "    s = env.reset()\n",
    "    #The Q-Table learning algorithm\n",
    "    for _ in range(100):\n",
    "        None\n",
    "        \n",
    "        #update exploration parameter\n",
    "        if(d):\n",
    "            e = 1./((i/50) + 10)\n",
    "            break\n",
    "        \n",
    "    rList.append(rAll)\n"
   ]
  },
  {
   "cell_type": "code",
   "execution_count": 15,
   "metadata": {},
   "outputs": [
    {
     "data": {
      "text/plain": [
       "<matplotlib.axes._subplots.AxesSubplot at 0x7fdaf49dccf8>"
      ]
     },
     "execution_count": 15,
     "metadata": {},
     "output_type": "execute_result"
    },
    {
     "data": {
      "image/png": "[encoded data removed]",
      "text/plain": [
       "<matplotlib.figure.Figure at 0x7fdaf4a607f0>"
      ]
     },
     "metadata": {},
     "output_type": "display_data"
    }
   ],
   "source": [
    "import seaborn as sns\n",
    "%matplotlib inline\n",
    "sns.tsplot(np.cumsum(rList)/(1 + np.arange(EPISODES)))"
   ]
  },
  {
   "cell_type": "code",
   "execution_count": 16,
   "metadata": {},
   "outputs": [
    {
     "data": {
      "text/plain": [
       "array([ 1.        ,  0.5       ,  0.66666667, ...,  0.53302201,\n",
       "        0.53317773,  0.53333333])"
      ]
     },
     "execution_count": 16,
     "metadata": {},
     "output_type": "execute_result"
    }
   ],
   "source": [
    "np.cumsum(rList)/(1 + np.arange(EPISODES))"
   ]
  }
 ],
 "metadata": {
  "kernelspec": {
   "display_name": "Python 3",
   "language": "python",
   "name": "python3"
  },
  "language_info": {
   "codemirror_mode": {
    "name": "ipython",
    "version": 3
   },
   "file_extension": ".py",
   "mimetype": "text/x-python",
   "name": "python",
   "nbconvert_exporter": "python",
   "pygments_lexer": "ipython3",
   "version": "3.5.3"
  }
 },
 "nbformat": 4,
 "nbformat_minor": 2
}
