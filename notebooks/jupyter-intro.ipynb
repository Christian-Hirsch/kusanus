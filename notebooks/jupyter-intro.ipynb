{
 "cells": [
  {
   "cell_type": "markdown",
   "metadata": {},
   "source": [
    "# Einstieg in Jupyter-Notebook und Python"
   ]
  },
  {
   "cell_type": "markdown",
   "metadata": {},
   "source": [
    "Die Kombination aus der Programmiersprache Python und der Umgebung Jupyter-Notebook erlauben das effiziente Bauen von Prototypen. Daher bilden sie ein exzellentes Werkzeug, um uns mit den Grundlagen in Deep Learning vertraut zumachen"
   ]
  },
  {
   "cell_type": "markdown",
   "metadata": {},
   "source": [
    "## Jupyter-Notebook"
   ]
  },
  {
   "cell_type": "markdown",
   "metadata": {},
   "source": [
    "An Matlab angelehnt bietet das Jupyter-Notebook zwei Arten von Zellen:\n",
    "\n",
    "1. **Textzellen**. Hier wird Fliesstext im Markdown-Format eingetragen.\n",
    "2. **Programmzellen**. Hier wird Code eingetragen und ausgefuehrt."
   ]
  },
  {
   "cell_type": "markdown",
   "metadata": {},
   "source": [
    "Die Navigation erfolgt entweder ueber die GUI oder mit Hilfe von Tastenkuerzel. Druecken der **Taste H** zeigt die vorhandenen Optionen an."
   ]
  },
  {
   "cell_type": "markdown",
   "metadata": {},
   "source": [
    "Als erste Uebungsaufgabe legen wir eine Programmzelle an und fuehren den Befehl ``print('Hello World')`` aus. Mit **Strg+Enter** wird die aktuelle Zelle ausgefueht -- **Shift+Enter** fuehrt die aktuelle Zeile aus und springt in die naechste."
   ]
  },
  {
   "cell_type": "markdown",
   "metadata": {},
   "source": [
    "## Python"
   ]
  },
  {
   "cell_type": "markdown",
   "metadata": {},
   "source": [
    "Wer bereits erste Erfahrungen im imperativen Programmieren hat findet sich hier schnell zurecht."
   ]
  },
  {
   "cell_type": "code",
   "execution_count": null,
   "metadata": {
    "collapsed": false
   },
   "outputs": [],
   "source": [
    "#Variablendeklaration\n",
    "a = 5\n",
    "\n",
    "#Funktionsdefinition\n",
    "def my_special_square(x):\n",
    "    \"\"\"Compute the square of a number in my way\n",
    "    \n",
    "     #Arguments\n",
    "      x: number to be squared\n",
    "      \n",
    "     #Result\n",
    "      Indeed the square of the input\n",
    "    \"\"\"\n",
    "    \n",
    "    if x > 0:\n",
    "        return x * x\n",
    "    else:\n",
    "        return (-x) * (-x)\n",
    "    \n",
    "my_special_square(a)"
   ]
  },
  {
   "cell_type": "markdown",
   "metadata": {},
   "source": [
    "Einzig die Einrueckungsstrenge ist gewoehnungsbeduerftig. Korrigiere die naechste Zelle so, dass sie erfolgreich ausgefuehrt werden kann"
   ]
  },
  {
   "cell_type": "code",
   "execution_count": null,
   "metadata": {
    "collapsed": false
   },
   "outputs": [],
   "source": [
    " b = 6\n",
    "\n",
    "if a < 0:\n",
    "b = 7\n",
    "\n",
    "b"
   ]
  },
  {
   "cell_type": "markdown",
   "metadata": {},
   "source": [
    "Python ist reich an syntaktischem Zucker. Besonders angenehm sind die *for-comprehensions* und das Transformieren von Listen. Mehr dazu spaeter, wenn wir mit *numpy* arbeiten."
   ]
  },
  {
   "cell_type": "code",
   "execution_count": null,
   "metadata": {
    "collapsed": false
   },
   "outputs": [],
   "source": [
    "my_list = [x + y * 2 for x in range(3) for y in range(x)]\n",
    "\n",
    "print(len(my_list) == 0)\n",
    "print(my_list[:2] == [])\n",
    "print(my_list[-1] == 0)\n",
    "print(my_list[::-1] == [])"
   ]
  },
  {
   "cell_type": "markdown",
   "metadata": {},
   "source": [
    "## Hilfe naht!"
   ]
  },
  {
   "cell_type": "markdown",
   "metadata": {},
   "source": [
    "Jupyter-Notebook bietet sehr maechtige Debugging-Werkzeuge, die das Programmierleben erleichtern."
   ]
  },
  {
   "cell_type": "code",
   "execution_count": null,
   "metadata": {
    "collapsed": false
   },
   "outputs": [],
   "source": [
    "my_special_square('a')"
   ]
  },
  {
   "cell_type": "markdown",
   "metadata": {},
   "source": [
    "Der erste Befehl ist `%debug` mit dessen Hilfe man im Stack-Trace navigieren kann. **Wichtig:** Nicht vergessen den Stack-Trace wieder mit ``q`` zu verlassen"
   ]
  },
  {
   "cell_type": "code",
   "execution_count": null,
   "metadata": {
    "collapsed": false
   },
   "outputs": [],
   "source": [
    "%debug"
   ]
  },
  {
   "cell_type": "markdown",
   "metadata": {},
   "source": [
    "**Shift-Tab** in Funktionsklammern erklaert die Funktionssignatur. Gerne auch **Shift-Tab-Tab**."
   ]
  },
  {
   "cell_type": "code",
   "execution_count": null,
   "metadata": {
    "collapsed": true
   },
   "outputs": [],
   "source": [
    "my_special_square()"
   ]
  },
  {
   "cell_type": "markdown",
   "metadata": {},
   "source": [
    "Wenn es hart auf hart kommt, koennen wir uns mit ``??`` den Source-Code anzeigen lassen."
   ]
  },
  {
   "cell_type": "code",
   "execution_count": null,
   "metadata": {
    "collapsed": true
   },
   "outputs": [],
   "source": [
    "??my_special_square()"
   ]
  }
 ],
 "metadata": {
  "kernelspec": {
   "display_name": "Python 3",
   "language": "python",
   "name": "python3"
  },
  "language_info": {
   "codemirror_mode": {
    "name": "ipython",
    "version": 3
   },
   "file_extension": ".py",
   "mimetype": "text/x-python",
   "name": "python",
   "nbconvert_exporter": "python",
   "pygments_lexer": "ipython3",
   "version": "3.5.2+"
  }
 },
 "nbformat": 4,
 "nbformat_minor": 2
}
