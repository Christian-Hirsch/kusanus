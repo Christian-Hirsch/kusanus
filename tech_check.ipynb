{
 "cells": [
  {
   "cell_type": "markdown",
   "metadata": {},
   "source": [
    "# Tech Check"
   ]
  },
  {
   "cell_type": "markdown",
   "metadata": {},
   "source": [
    "Wenn die folgende Zelle fehlerfrei kompiliert, so sind alle notwendigen Pakete installiert."
   ]
  },
  {
   "cell_type": "code",
   "execution_count": null,
   "metadata": {},
   "outputs": [],
   "source": [
    "import tensorflow.contrib.keras.python.keras\n",
    "import h5py\n",
    "import matplotlib\n",
    "import numpy \n",
    "import pandas\n",
    "import PIL\n",
    "import sklearn\n",
    "import tensorflow"
   ]
  },
  {
   "cell_type": "markdown",
   "metadata": {},
   "source": [
    "Die folgende Zeile soll kompiliert werden um vortrainierte Modelle und Datensaetze zu laden. "
   ]
  },
  {
   "cell_type": "code",
   "execution_count": null,
   "metadata": {},
   "outputs": [],
   "source": [
    "from tensorflow.contrib.keras.python.keras.applications import VGG16\n",
    "from tensorflow.contrib.keras.python.keras.applications.vgg16 import  decode_predictions\n",
    "from tensorflow.contrib.keras.python.keras.applications.resnet50 import  ResNet50\n",
    "from tensorflow.contrib.keras.python.keras.applications.xception import  Xception\n",
    "\n",
    "\n",
    "from tensorflow.contrib.keras.python.keras.datasets import imdb, mnist\n",
    "\n",
    "imdb.get_word_index()\n",
    "imdb.load_data()\n",
    "mnist.load_data()\n",
    "\n",
    "vgg16 = VGG16(weights = 'imagenet')\n",
    "resnet50 = ResNet50(weights = 'imagenet')\n",
    "xception = Xception(weights='imagenet')\n",
    "decode_predictions(numpy.array(numpy.random.rand(1,1000)))\n"
   ]
  },
  {
   "cell_type": "code",
   "execution_count": null,
   "metadata": {
    "collapsed": true
   },
   "outputs": [],
   "source": []
  }
 ],
 "metadata": {
  "kernelspec": {
   "display_name": "Python 3",
   "language": "python",
   "name": "python3"
  },
  "language_info": {
   "codemirror_mode": {
    "name": "ipython",
    "version": 3
   },
   "file_extension": ".py",
   "mimetype": "text/x-python",
   "name": "python",
   "nbconvert_exporter": "python",
   "pygments_lexer": "ipython3",
   "version": "3.5.3"
  }
 },
 "nbformat": 4,
 "nbformat_minor": 2
}
